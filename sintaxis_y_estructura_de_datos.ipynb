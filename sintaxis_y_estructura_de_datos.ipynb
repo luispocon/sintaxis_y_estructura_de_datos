{
 "cells": [
  {
   "cell_type": "markdown",
   "id": "30b2b351-7ce9-4d82-8bff-fb57422510e6",
   "metadata": {},
   "source": [
    "# Sintaxis y Estructuras de Datos"
   ]
  },
  {
   "cell_type": "markdown",
   "id": "c7be8aa1-d5b4-4147-934d-ae617edb91de",
   "metadata": {},
   "source": [
    "### Parte #1 - (Programación y Sintaxis):"
   ]
  },
  {
   "cell_type": "markdown",
   "id": "8be20c8d-2c0c-4421-be03-5def4c7a7462",
   "metadata": {},
   "source": [
    "> 1.  Haga un programa en Python que reciba de parámetro un número de segundos y que despliegue en pantalla, las horas, minutos y segundos que representan. Por ejemplo:\n",
    "> * Si el número de segundos recibidos fuera: 2743 entonces su programa debería desplegar:\n",
    "Horas: 0, Minutos: 45 , Segundos: 43\n",
    "> * Si el número de segundos recibidos fuera 5871: Horas: 1, Minutos: 37 , Segundos: 51"
   ]
  },
  {
   "cell_type": "code",
   "execution_count": 11,
   "id": "ee4320c0-93ef-4a0d-8cba-1f57fce1daa4",
   "metadata": {},
   "outputs": [
    {
     "name": "stdin",
     "output_type": "stream",
     "text": [
      "Ingrese los segundos  6248\n"
     ]
    },
    {
     "name": "stdout",
     "output_type": "stream",
     "text": [
      "Horas: 1, Minutos: 44, Segundos8\n"
     ]
    }
   ],
   "source": [
    "segundos = int(input(\"Ingrese los segundos \"))\n",
    "minuto = segundos//60 # transformando los segundos en minutos\n",
    "segundo = segundos % 60 # el residuo de la division para obtener los segundos\n",
    "horas = minuto // 60 # obteniendo las horas\n",
    "minutos_ =minuto % 60 # obteniendo los minutos de la ultima hora calculada\n",
    "print( \"Horas: \"+ str(horas)+\",\"+\" Minutos: \"+ str(minutos_)+\",\"+ \" Segundos\" + str(segundo) )"
   ]
  },
  {
   "cell_type": "markdown",
   "id": "f1c73a61-d467-4fad-8650-6e125e0206ad",
   "metadata": {},
   "source": [
    ">2. Haga una función en Python que dado un número entre 1 y 20. Y un carácter cualquiera\n",
    "despliegue cuatro patrones triangulares.\n",
    "\n",
    "> * Por ejemplo si el usuario ingresara el nu´mero 4 y el s´ımbolo * el programa deber´a desplegar\n",
    "lo siguiente:"
   ]
  },
  {
   "cell_type": "code",
   "execution_count": 68,
   "id": "57ac1489-6be5-42b9-9c1f-4439abfd68a7",
   "metadata": {},
   "outputs": [],
   "source": [
    "def patron_triangular(n,figura):\n",
    "    for i in range(n):\n",
    "        esp = (n-1)-i\n",
    "        print(\" \"*(40)+''*(esp) +figura*(i+1) + \\\n",
    "              \"      \" + figura*(esp+1)+ \"     \" \\\n",
    "              +figura*(esp+1)  +\"      \"+''*(esp)+figura*(i+1) )\n",
    "\n"
   ]
  },
  {
   "cell_type": "code",
   "execution_count": 89,
   "id": "1aff8c72-86c6-40a5-ba44-7899a1c53546",
   "metadata": {},
   "outputs": [
    {
     "name": "stdout",
     "output_type": "stream",
     "text": [
      "                                        *      ****     ****      *\n",
      "                                        **      ***     ***      **\n",
      "                                        ***      **     **      ***\n",
      "                                        ****      *     *      ****\n"
     ]
    }
   ],
   "source": [
    "patron_triangular(4,\"*\")"
   ]
  },
  {
   "cell_type": "markdown",
   "id": "2cd9b3db-c7a4-4c6f-877f-5e69786f9de7",
   "metadata": {},
   "source": [
    ">3. Haga un programa en Python que la fecha de nacimiento de una persona (puede ingresar por\n",
    "separado cada valor, es decir pedir primero día, luego mes y luego año), despliegue la edad\n",
    "de la persona en años, meses y días. Su resultado puede ser aproximado."
   ]
  },
  {
   "cell_type": "code",
   "execution_count": 13,
   "id": "e2f8ebf4-8e18-4e54-9301-401b38f9f262",
   "metadata": {},
   "outputs": [
    {
     "name": "stdin",
     "output_type": "stream",
     "text": [
      "Por favor ingrese el día que nacio:  5\n",
      "Por favor ingrese el mes que nacio: 8\n",
      "Por favor ingrese el año que nacio: 1993\n",
      "Por favor ingrese el día actual:  25\n",
      "Por favor ingrese el mes actual: 2\n",
      "Por favor ingrese el año actual: 2023\n"
     ]
    },
    {
     "name": "stdout",
     "output_type": "stream",
     "text": [
      "La edad de la persona es: 29 años, 6 meses y 25 días\n"
     ]
    }
   ],
   "source": [
    "d_nacimiento = int(input(\"Por favor ingrese el día que nacio: \")) # para ingresar el día de nacimiento\n",
    "m_nacimiento =  int(input(\"Por favor ingrese el mes que nacio:\")) # para ingresar el mes de nacimiento\n",
    "a_nacimiento = int(input(\"Por favor ingrese el año que nacio:\")) # para ingresar el año de nacimiento\n",
    "\n",
    "d_actual = int(input(\"Por favor ingrese el día actual: \")) # para ingresar el día actual\n",
    "m_actual =  int(input(\"Por favor ingrese el mes actual:\")) # para ingresar el mes actual\n",
    "a_actual = int(input(\"Por favor ingrese el año actual:\")) # para ingresar el año actual\n",
    "\n",
    "# Obtener los días del periodo actual respecto al anterior\n",
    "d_t = (d_actual - d_nacimiento)\n",
    "d_t += (m_actual - m_nacimiento) *30 # 30 por los días que trae el mes\n",
    "d_t += (a_actual - a_nacimiento) *365 # 365 que tiene el año\n",
    "\n",
    "edad_anio = d_t //365 # 60 # transformando a la edad en año\n",
    "dias_faltantes = d_t %365 #es el residuo de la division para obtener los días\n",
    "meses_faltantes = dias_faltantes //30\n",
    "edad_faltante = dias_faltantes % 30\n",
    "\n",
    "\n",
    "print(\"La edad de la persona es: {} años, {} meses y {} días\".format(edad_anio, meses_faltantes, edad_faltante))"
   ]
  },
  {
   "cell_type": "markdown",
   "id": "aa1c81de-d2fc-4d79-bab2-deba25c00d7e",
   "metadata": {},
   "source": [
    "> 4. Escriba una función en Python que dada una tupla de elementos (números o letras) esta se\n",
    "convierta a un string. Tomar nota del siguiente ejemplo: \n",
    "> Si la entrada fuera: (10, 20, 40, 5, 70)\n",
    "> La salida debería ser: 102040570"
   ]
  },
  {
   "cell_type": "code",
   "execution_count": 14,
   "id": "ba719be9-3bd5-4eb5-810e-846b889e3b6d",
   "metadata": {},
   "outputs": [],
   "source": [
    "tupla = (10, 20, 40, 5, 70)\n",
    "def convierte_string(tupla):\n",
    "    tupla_nueva = tuple(map(str, tupla))\n",
    "    \n",
    "    return ''.join(tupla_nueva)"
   ]
  },
  {
   "cell_type": "code",
   "execution_count": 15,
   "id": "75f5280b-eb0d-46e4-891f-2573ab1427c9",
   "metadata": {},
   "outputs": [
    {
     "data": {
      "text/plain": [
       "'102040570'"
      ]
     },
     "execution_count": 15,
     "metadata": {},
     "output_type": "execute_result"
    }
   ],
   "source": [
    "convierte_string(tupla)"
   ]
  },
  {
   "cell_type": "markdown",
   "id": "70505c6c-65c1-4888-b743-d488f61a56ca",
   "metadata": {},
   "source": [
    "> 5. Cree un programa en Python que dada una lista de tuplas, elimine las tuplas que están vacías.\n",
    "Tomar nota del siguiente ejemplo:\n",
    "\n",
    ">* Si la lista fuera: [(), (), (’X’,), (’a’, ’b’), (’a’, ’b’, ’c’), (’d’)]\n",
    ">* El resultado deber´ıa ser: [(’X’), (’a’, ’b’), (’a’, ’b’, ’c’), ’d’]\n"
   ]
  },
  {
   "cell_type": "code",
   "execution_count": 14,
   "id": "c4fa5789-1beb-4a56-90af-d19bcb394f65",
   "metadata": {},
   "outputs": [
    {
     "name": "stdout",
     "output_type": "stream",
     "text": [
      "[('X',), ('a', 'b'), ('a', 'b', 'c'), 'd']\n"
     ]
    }
   ],
   "source": [
    "lista_tupla = [(), (), ('X',), ('a', 'b'), ('a', 'b', 'c'), ('d') ] \n",
    "limpieza = [tuplas for tuplas in lista_tupla if tuplas]\n",
    "print(limpieza)\n"
   ]
  },
  {
   "cell_type": "markdown",
   "id": "1c6ba452-723a-4d8b-a28c-7d86fd11cd68",
   "metadata": {},
   "source": [
    ">6. Cree una función en Python que dada una tupla de tuplas con números, produzca una tupla\n",
    "con el promedio de cada tupla individual. Tomar nota del siguiente ejemplo:\n",
    ">* Si la tupla de entrada fuera: ((10, 10, 10, 12), (30, 45, 56, 45), (81, 80, 39, 32))\n",
    ">* El resultado debería ser: (10.5, 44, 58)"
   ]
  },
  {
   "cell_type": "code",
   "execution_count": 17,
   "id": "e6ff1990-f87e-405b-b11d-a806e03f897f",
   "metadata": {},
   "outputs": [],
   "source": [
    "tupla = ((10, 10, 10, 12), (30, 45, 56, 45), (81, 80, 39, 32))\n",
    "\n",
    "def promedio_tupla(tupla):\n",
    "    for i in tupla:\n",
    "        print(sum(i)/len(i))"
   ]
  },
  {
   "cell_type": "code",
   "execution_count": 18,
   "id": "105f7969-bc4f-42a7-bc62-db8644a6c916",
   "metadata": {},
   "outputs": [
    {
     "name": "stdout",
     "output_type": "stream",
     "text": [
      "10.5\n",
      "44.0\n",
      "58.0\n"
     ]
    }
   ],
   "source": [
    "promedio_tupla(tupla)"
   ]
  },
  {
   "cell_type": "markdown",
   "id": "14f4059f-cb60-4f76-8ff5-1c3356f97b20",
   "metadata": {},
   "source": [
    "> 7. Escribir un programa que gestione las facturas pendientes de cobro de una empresa. Las\n",
    "facturas se almacenarán en un diccionario donde la llave de cada factura sera el número de\n",
    "factura (debe utilizar un numero de 4 dígitos) y el valor el coste de la factura. El programa\n",
    "debe preguntar al usuario si quiere anadir una nueva factura, pagar una existente o terminar.\n",
    "Si desea añadir una nueva factura se preguntará por el nuúmero de factura y su coste y se\n",
    "añadira al diccionario, para confirmar que la factura se ingreso correctamente el programa\n",
    "debe desplegar el diccionario completo. Si se desea pagar una factura se preguntará por el\n",
    "número de factura y se eliminará del diccionario. Después de cada operación el programa\n",
    "debe mostrar en pantalla la cantidad cobrada hasta el momento y la cantidad pendiente de\n",
    "cobro. Puede utilizar otras estructuras de datos como apoyo si lo considera necesario"
   ]
  },
  {
   "cell_type": "code",
   "execution_count": 80,
   "id": "9759441b-0e3d-4f26-8ade-58053c370dcb",
   "metadata": {},
   "outputs": [
    {
     "name": "stdin",
     "output_type": "stream",
     "text": [
      "¿Qué desea realizar con la factura? (añadir/pagar/terminar)  añadir\n",
      "Ingrese el número de factura, tiene que ser de 4 dígitos:  1254\n",
      "Ingrese el monto de la factura:  200\n"
     ]
    },
    {
     "name": "stdout",
     "output_type": "stream",
     "text": [
      "Factura añadida correctamente:\n",
      "{'1254': 200.0}\n"
     ]
    },
    {
     "name": "stdin",
     "output_type": "stream",
     "text": [
      "¿Qué desea realizar con la factura? (añadir/pagar/terminar)  añadir\n",
      "Ingrese el número de factura, tiene que ser de 4 dígitos:  2146\n",
      "Ingrese el monto de la factura:  78\n"
     ]
    },
    {
     "name": "stdout",
     "output_type": "stream",
     "text": [
      "Factura añadida correctamente:\n",
      "{'1254': 200.0, '2146': 78.0}\n"
     ]
    },
    {
     "name": "stdin",
     "output_type": "stream",
     "text": [
      "¿Qué desea realizar con la factura? (añadir/pagar/terminar)  añadir\n",
      "Ingrese el número de factura, tiene que ser de 4 dígitos:  3254\n",
      "Ingrese el monto de la factura:  1235\n"
     ]
    },
    {
     "name": "stdout",
     "output_type": "stream",
     "text": [
      "Factura añadida correctamente:\n",
      "{'1254': 200.0, '2146': 78.0, '3254': 1235.0}\n"
     ]
    },
    {
     "name": "stdin",
     "output_type": "stream",
     "text": [
      "¿Qué desea realizar con la factura? (añadir/pagar/terminar)  terminar\n"
     ]
    },
    {
     "name": "stdout",
     "output_type": "stream",
     "text": [
      "Gracias ingresar las facturas y el monto, que tengas buen día\n"
     ]
    }
   ],
   "source": [
    "fac_pend = {} # Diccionario donde se guardara cada uno de los datos que se ingreserá\n",
    "\n",
    "t_cobrado = sum(fac_pend.values()) # suma del total cobrado\n",
    "total_pendiente = 0 # inicializando con 0\n",
    "\n",
    "for factura, monto in fac_pend.items(): # ciclo para iterar\n",
    "    total_pendiente += monto              # guardara el monto\n",
    "    print(f\"Cantidad cobrada hasta el momento: {t_cobrado}\") # el monto que llevara por cada vez que se ingrese nuevos valores\n",
    "    print(f\"Cantidad pendiente de cobro: {total_pendiente}\") # lo que queda pendiente\n",
    "\n",
    "while True: # mientras la información sea verdadera\n",
    "    mensaje_a_realizar = input(\"¿Qué desea realizar con la factura? (añadir/pagar/terminar) \")\n",
    "    if mensaje_a_realizar == \"añadir\": # accion que realizará al seleccionar nueva factura\n",
    "        fac_4_digits = input(\"Ingrese el número de factura, tiene que ser de 4 dígitos: \") # input para ingresar el valor\n",
    "            \n",
    "        \n",
    "        monto = float(input(\"Ingrese el monto de la factura: \"))  # input para ingresar el valor\n",
    "        fac_pend[fac_4_digits] = monto\n",
    "        print(\"Factura añadida correctamente:\")\n",
    "        print(fac_pend)\n",
    "\n",
    "    elif mensaje_a_realizar == \"pagar\": # accion que realizara al seleccionar pagar factura\n",
    "        fac_4_digits = input(\"Ingrese el número de factura a pagar: \") # input para ingresar el valor\n",
    "        if fac_4_digits in fac_pend:\n",
    "            monto = fac_pend.pop(fac_4_digits)\n",
    "            print(f\"Factura {fac_4_digits} pagada por un monto de {monto}\")\n",
    "     \n",
    "        else:\n",
    "            print(f\"La factura {fac_4_digits} no se encuentra pendiente de cobro\")\n",
    "    elif mensaje_a_realizar == \"terminar\": # acción que realizará al seleccionar terminar\n",
    "        print(\"Gracias ingresar las facturas y el monto, que tengas buen día\")\n",
    "        break\n",
    "    else:\n",
    "        print(\"Ingrese la información correcta\")"
   ]
  },
  {
   "cell_type": "markdown",
   "id": "42b532c8-fb29-4d53-b1ac-71923f1031bd",
   "metadata": {},
   "source": [
    "> Haga una función en Python, que cree un set con todas las cartas de una baraja de Pocker utilizando el siguiente formato: Tipo-Numero. Utilice las letras T para treboles, C para corazones, P para picas y E para espadas. Para los números utilice la numeración del 1 al 13. Por ejemplo E13 - sería Rey de Espadas, P01 sería As de Picas, T05 seríaa cinco de Treboles.\n",
    "Posteriormente cree una funcion que dado el conjunto anterior cree dos sets nuevos de cartas,\n",
    "cada conjunto debe tener una cantidad variable de elementos, puede utilizar números aleatorios enteros para definir la longitud de los conjuntos.\n",
    "Adicionalmente, debera calcular la probabilidad de la intersección de ambos conjuntos y demuestre si son eventos independientes con la regla del producto.\n",
    "Para concluir, calcule probabilidad de la unión de ambos conjuntos y demuestre que se cumple\n",
    "la regla de la adición."
   ]
  },
  {
   "cell_type": "code",
   "execution_count": 87,
   "id": "e80e8a17-947a-4439-bcf7-162073d31779",
   "metadata": {},
   "outputs": [
    {
     "name": "stdout",
     "output_type": "stream",
     "text": [
      "Mazo de barajas # 1:\n",
      "{'P02', 'C09', 'P08', 'C06', 'E013', 'C012', 'P06', 'T010', 'P03', 'T03', 'T011', 'E07', 'P011', 'T013', 'E01', 'C02', 'P09', 'T06', 'C05', 'E05', 'C011', 'E03', 'P013', 'T05', 'C03', 'C04', 'E012', 'T01', 'T012', 'E02', 'T04', 'T02', 'E06', 'C010', 'C08', 'C013', 'E08'}\n",
      "Mazo de barajas # 2:\n",
      "{'P012', 'P05', 'P02', 'C09', 'C06', 'E013', 'C012', 'T08', 'T010', 'P03', 'T03', 'T011', 'E07', 'P011', 'T013', 'E01', 'E04', 'T06', 'C05', 'P04', 'P010', 'E011', 'E05', 'E03', 'P013', 'C07', 'C03', 'C04', 'E012', 'T01', 'E010', 'T012', 'E02', 'T04', 'P07', 'P01', 'E06', 'C010', 'C08', 'C013', 'E08'}\n",
      "Probabilidad de la intersección es: 33.24324324324324\n",
      "La intersección de los conjuntos no es un evento independiente con la regla del producto\n",
      "Probabilidad de la unión: 53.18918918918919\n",
      "La unión de los conjuntos no es un evento independiente con la regla de la adición\n"
     ]
    },
    {
     "name": "stderr",
     "output_type": "stream",
     "text": [
      "C:\\Users\\DELLIN~1\\AppData\\Local\\Temp/ipykernel_27036/2180457251.py:17: DeprecationWarning: Sampling from a set deprecated\n",
      "since Python 3.9 and will be removed in a subsequent version.\n",
      "  mazo_set1 = set(random.sample(baraja_mazo, len1))\n",
      "C:\\Users\\DELLIN~1\\AppData\\Local\\Temp/ipykernel_27036/2180457251.py:18: DeprecationWarning: Sampling from a set deprecated\n",
      "since Python 3.9 and will be removed in a subsequent version.\n",
      "  mazo_set2 = set(random.sample(baraja_mazo, len2))\n"
     ]
    }
   ],
   "source": [
    "import random\n",
    "def mazo():    # Primer funcion que agrega las iniciales de las figuras de las cartas y el número\n",
    "    inicial_carta = ['T', 'C', 'P', 'E']\n",
    "    numero_cartas = []\n",
    "    for i in range(1,14):\n",
    "        numero_cartas.append(str(\"0\")+str(i))\n",
    "    baraja_mazo = set()\n",
    "    for tipo in inicial_carta: #insertando a cada carta la figura y el número\n",
    "        for numero in numero_cartas:\n",
    "            carta = tipo + numero\n",
    "            baraja_mazo.add(carta)\n",
    "    return baraja_mazo\n",
    "\n",
    "def set_conjunto_nuevo(baraja_mazo): # Función que crear el otro conjunto de cartas\n",
    "    len1 = random.randint(1, len(baraja_mazo)) #verificando la longitud de las cartas \n",
    "    len2 = random.randint(1, len(baraja_mazo)) \n",
    "    mazo_set1 = set(random.sample(baraja_mazo, len1))\n",
    "    mazo_set2 = set(random.sample(baraja_mazo, len2))\n",
    "    return mazo_set1, mazo_set2\n",
    "\n",
    "def probabilidad_interseccion1(mazo_set1, mazo_set2):       # Probabilidad intersección\n",
    "    interseccion = mazo_set1.intersection(mazo_set2) #funcion de la probabilidad interseccion\n",
    "    probabilidad = len(interseccion) / len(mazo_set1) * len(mazo_set2)\n",
    "    return probabilidad\n",
    "\n",
    "def probabilidad_union1(mazo_set1, mazo_set2):        # Probabilidad union\n",
    "    union = mazo_set1.union(mazo_set2)  #funcion de la probabilidad union\n",
    "    probabilidad = len(union) / len(mazo_set1) * len(mazo_set2)\n",
    "    return probabilidad\n",
    "\n",
    "#-----------Resultados-----------------\n",
    "baraja_mazo = mazo()\n",
    "mazo_set1, mazo_set2 = set_conjunto_nuevo(baraja_mazo)\n",
    "print(\"Mazo de barajas # 1:\")\n",
    "print(mazo_set1)\n",
    "print(\"Mazo de barajas # 2:\")\n",
    "print(mazo_set2)\n",
    "\n",
    "probabilidad_interseccion = probabilidad_interseccion1(mazo_set1, mazo_set2)\n",
    "print(f\"Probabilidad de la intersección es: {probabilidad_interseccion}\")\n",
    "if probabilidad_interseccion == len(mazo_set1.intersection(mazo_set2)) / (len(mazo_set1) * len(mazo_set2)):\n",
    "    print(\"La intersección de los conjuntos es un evento independiente con la regla del producto\")\n",
    "else:\n",
    "    print(\"La intersección de los conjuntos no es un evento independiente con la regla del producto\")\n",
    "\n",
    "probabilidad_union = probabilidad_union1(mazo_set1, mazo_set2)\n",
    "print(f\"Probabilidad de la unión: {probabilidad_union}\")\n",
    "if probabilidad_union == len(mazo_set1.union(mazo_set2)) / (len(mazo_set1) * len(mazo_set2)):\n",
    "    print(\"La unión de los conjuntos es un evento independiente con la regla de la adición\")\n",
    "else:\n",
    "    print(\"La unión de los conjuntos no es un evento independiente con la regla de la adición\")"
   ]
  },
  {
   "cell_type": "code",
   "execution_count": null,
   "id": "7d0035a5-5925-4ce2-a043-d2350744c507",
   "metadata": {},
   "outputs": [],
   "source": []
  },
  {
   "cell_type": "code",
   "execution_count": null,
   "id": "72badbb2-6221-486e-bfae-0affb2dd08a2",
   "metadata": {},
   "outputs": [],
   "source": []
  },
  {
   "cell_type": "code",
   "execution_count": null,
   "id": "56c6a9f9-0c11-480b-8abb-b9b539026f13",
   "metadata": {},
   "outputs": [],
   "source": []
  },
  {
   "cell_type": "code",
   "execution_count": 64,
   "id": "d5e64470-929a-4541-b028-cc7b968ff81a",
   "metadata": {},
   "outputs": [],
   "source": []
  },
  {
   "cell_type": "code",
   "execution_count": null,
   "id": "cb57cd73-ed4a-4594-9be1-f7bdd9389e42",
   "metadata": {},
   "outputs": [],
   "source": []
  },
  {
   "cell_type": "code",
   "execution_count": null,
   "id": "1e272f33-f0fd-4dd3-912c-bef117aff367",
   "metadata": {},
   "outputs": [],
   "source": []
  }
 ],
 "metadata": {
  "kernelspec": {
   "display_name": "Python 3 (ipykernel)",
   "language": "python",
   "name": "python3"
  },
  "language_info": {
   "codemirror_mode": {
    "name": "ipython",
    "version": 3
   },
   "file_extension": ".py",
   "mimetype": "text/x-python",
   "name": "python",
   "nbconvert_exporter": "python",
   "pygments_lexer": "ipython3",
   "version": "3.9.7"
  }
 },
 "nbformat": 4,
 "nbformat_minor": 5
}
